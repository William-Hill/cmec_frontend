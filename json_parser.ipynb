{
 "cells": [
  {
   "cell_type": "code",
   "execution_count": 1,
   "metadata": {},
   "outputs": [],
   "source": [
    "import json\n",
    "import pandas as pd\n",
    "# package for flattening json in pandas df\n",
    "from pandas.io.json import json_normalize\n",
    "from flatten_json import flatten"
   ]
  },
  {
   "cell_type": "code",
   "execution_count": 2,
   "metadata": {},
   "outputs": [],
   "source": [
    "# load json object\n",
    "with open('test.json') as scalar_json:\n",
    "    scalar_data = json.load(scalar_json)"
   ]
  },
  {
   "cell_type": "code",
   "execution_count": 3,
   "metadata": {},
   "outputs": [
    {
     "name": "stdout",
     "output_type": "stream",
     "text": [
      "dict_keys(['Ecosystem and Carbon Cycle', 'Hydrology Cycle', 'Radiation and Energy Cycle', 'Forcings', 'Relationships'])\n"
     ]
    }
   ],
   "source": [
    "metric_catalogues = scalar_data.keys()\n",
    "print(metric_catalogues)"
   ]
  },
  {
   "cell_type": "code",
   "execution_count": 4,
   "metadata": {},
   "outputs": [],
   "source": [
    "modelNames = [\n",
    "  \"bcc-csm1-1\",\n",
    "  \"bcc-csm1-1-m\",\n",
    "  \"CESM1-BGC\",\n",
    "  \"GFDL-ESM2G\",\n",
    "  \"inmcm4\",\n",
    "  \"IPSL-CM5A-LR\",\n",
    "  \"MIROC-ESM\",\n",
    "  \"MPI-ESM-LR\",\n",
    "  \"NorESM1-ME\",\n",
    "  \"MeanCMIP5\",\n",
    "  \"BCC-CSM2-MR\",\n",
    "  \"BCC-ESM1\",\n",
    "  \"CESM2\",\n",
    "  \"CESM2-WACCM\",\n",
    "  \"CNRM-CM6-1\",\n",
    "  \"CNRM-ESM2-1\",\n",
    "  \"E3SMv1-CTC\",\n",
    "  \"GISS-E2-1-G\",\n",
    "  \"GISS-E2-1-H\",\n",
    "  \"IPSL-CM6A-LR\",\n",
    "  \"MIROC6\",\n",
    "  \"MRI-ESM2-0\",\n",
    "  \"MeanCMIP6\"\n",
    "]"
   ]
  },
  {
   "cell_type": "code",
   "execution_count": 5,
   "metadata": {},
   "outputs": [
    {
     "name": "stdout",
     "output_type": "stream",
     "text": [
      "{'globe', 'southamericaamazon', 'global'}\n",
      "{'Overall Score', 'Spatial Distribution Score', 'Bias Score'}\n",
      "dict_keys(['Biomass', 'Burned Area', 'Carbon Dioxide', 'Gross Primary Productivity', 'Leaf Area Index', 'Global Net Ecosystem Carbon Balance', 'Net Ecosystem Exchange', 'Ecosystem Respiration', 'Soil Carbon'])\n"
     ]
    }
   ],
   "source": [
    "metric_catalogues_list = list(metric_catalogues)\n",
    "scalar_data[metric_catalogues_list[0]].keys()\n",
    "regions = set([x.split()[-1] for x in scalar_data[metric_catalogues_list[0]].keys() if x != \"children\"])\n",
    "print(regions)\n",
    "scores = set([x.rsplit(' ', 1)[0] for x in scalar_data[metric_catalogues_list[0]].keys() if x != \"children\"])\n",
    "print(scores)\n",
    "children = scalar_data[metric_catalogues_list[0]]['children'].keys()\n",
    "print(children)\n",
    "# scalar_data[scalar_keys_list[0]]['children'].keys()\n",
    "score_values = set([x.rsplit(' ', 1)[0] for x in scalar_data[metric_catalogues_list[0]].keys() if x != \"children\"])"
   ]
  },
  {
   "cell_type": "code",
   "execution_count": 6,
   "metadata": {},
   "outputs": [
    {
     "name": "stdout",
     "output_type": "stream",
     "text": [
      "catalogue: Ecosystem and Carbon Cycle\n",
      "catalogue: Hydrology Cycle\n",
      "catalogue: Radiation and Energy Cycle\n",
      "catalogue: Forcings\n",
      "catalogue: Relationships\n",
      "catalogue: Ecosystem and Carbon Cycle\n",
      "catalogue: Hydrology Cycle\n",
      "catalogue: Radiation and Energy Cycle\n",
      "catalogue: Forcings\n",
      "catalogue: Relationships\n",
      "catalogue: Ecosystem and Carbon Cycle\n",
      "catalogue: Hydrology Cycle\n",
      "catalogue: Radiation and Energy Cycle\n",
      "catalogue: Forcings\n",
      "catalogue: Relationships\n"
     ]
    }
   ],
   "source": [
    "obj = {}\n",
    "for region in regions:\n",
    "    obj[region] = {}\n",
    "    for catalogue in metric_catalogues:\n",
    "        print(\"catalogue:\", catalogue)\n",
    "        score_dict = {key.rsplit(' ', 1)[0]:value for (key,value) in scalar_data[catalogue].items() if key != 'children' and region in key}\n",
    "#         print(\"score_dict:\", score_dict.keys())\n",
    "        for score, values in score_dict.items():\n",
    "            score_dict[score] = {key:value for (key,value) in zip(modelNames, values)}\n",
    "#         print(\"score_dict:\", score_dict)\n",
    "        metrics = scalar_data[catalogue]['children']\n",
    "#         print(\"metrics:\", metrics)\n",
    "        metrics_obj = {}\n",
    "        if metrics:\n",
    "            for metric, value in metrics.items():\n",
    "#                 print(\"metric:\", metric)\n",
    "#                 print(\"value:\", value)\n",
    "                metric_score_dict = {key.rsplit(' ', 1)[0]:value for (key,value) in value.items() if key != 'children' and region in key}\n",
    "#                 print(\"metric_score_dict:\", metric_score_dict)\n",
    "                for score, values in metric_score_dict.items():\n",
    "                    metric_score_dict[score] = {key:value for (key,value) in zip(modelNames, values)}\n",
    "                metrics_obj[metric] = {\"scores\": metric_score_dict}\n",
    "                observational_products = value['children']\n",
    "                if observational_products:\n",
    "                    products_obj = {}\n",
    "                    for product, product_value in observational_products.items():\n",
    "#                         print(\"product:\", product)\n",
    "                        product_score_dict = {key.rsplit(' ', 1)[0]:value for (key,value) in product_value.items() if key != 'children' and region in key}\n",
    "                        for score, values in product_score_dict.items():\n",
    "                            product_score_dict[score] = {key:value for (key,value) in zip(modelNames, values)}\n",
    "#                         print(\"product_score_dict:\", product_score_dict)\n",
    "                        products_obj[product] = {\"scores\": product_score_dict}\n",
    "#                 print(\"observational_products:\", observational_products)\n",
    "                metrics_obj[metric][\"observational_products\"] = products_obj\n",
    "#             print(\"metric_obj:\", metrics_obj)\n",
    "#         obj[region].append({catalogue: {\"scores\": score_dict, \"metrics\": metrics_obj}})\n",
    "        obj[region][catalogue] = {\"scores\": score_dict, \"metrics\": metrics_obj}\n",
    "\n",
    "        "
   ]
  },
  {
   "cell_type": "code",
   "execution_count": 7,
   "metadata": {},
   "outputs": [
    {
     "name": "stdout",
     "output_type": "stream",
     "text": [
      "dict_keys(['Ecosystem and Carbon Cycle', 'Hydrology Cycle', 'Radiation and Energy Cycle', 'Forcings', 'Relationships'])\n"
     ]
    }
   ],
   "source": [
    "print(obj['global'].keys())"
   ]
  },
  {
   "cell_type": "code",
   "execution_count": 8,
   "metadata": {},
   "outputs": [],
   "source": [
    "with open(\"data_file.json\", \"w\") as write_file:\n",
    "    json.dump(obj, write_file)"
   ]
  },
  {
   "cell_type": "code",
   "execution_count": 14,
   "metadata": {},
   "outputs": [],
   "source": [
    "# load json object\n",
    "with open('data_file.json') as data_json:\n",
    "    data = json.load(data_json)"
   ]
  },
  {
   "cell_type": "code",
   "execution_count": 15,
   "metadata": {},
   "outputs": [
    {
     "data": {
      "text/html": [
       "<div>\n",
       "<style scoped>\n",
       "    .dataframe tbody tr th:only-of-type {\n",
       "        vertical-align: middle;\n",
       "    }\n",
       "\n",
       "    .dataframe tbody tr th {\n",
       "        vertical-align: top;\n",
       "    }\n",
       "\n",
       "    .dataframe thead th {\n",
       "        text-align: right;\n",
       "    }\n",
       "</style>\n",
       "<table border=\"1\" class=\"dataframe\">\n",
       "  <thead>\n",
       "    <tr style=\"text-align: right;\">\n",
       "      <th></th>\n",
       "      <th>globe.Ecosystem and Carbon Cycle.scores.Spatial Distribution Score.bcc-csm1-1</th>\n",
       "      <th>globe.Ecosystem and Carbon Cycle.scores.Spatial Distribution Score.bcc-csm1-1-m</th>\n",
       "      <th>globe.Ecosystem and Carbon Cycle.scores.Spatial Distribution Score.CESM1-BGC</th>\n",
       "      <th>globe.Ecosystem and Carbon Cycle.scores.Spatial Distribution Score.GFDL-ESM2G</th>\n",
       "      <th>globe.Ecosystem and Carbon Cycle.scores.Spatial Distribution Score.inmcm4</th>\n",
       "      <th>globe.Ecosystem and Carbon Cycle.scores.Spatial Distribution Score.IPSL-CM5A-LR</th>\n",
       "      <th>globe.Ecosystem and Carbon Cycle.scores.Spatial Distribution Score.MIROC-ESM</th>\n",
       "      <th>globe.Ecosystem and Carbon Cycle.scores.Spatial Distribution Score.MPI-ESM-LR</th>\n",
       "      <th>globe.Ecosystem and Carbon Cycle.scores.Spatial Distribution Score.NorESM1-ME</th>\n",
       "      <th>globe.Ecosystem and Carbon Cycle.scores.Spatial Distribution Score.MeanCMIP5</th>\n",
       "      <th>...</th>\n",
       "      <th>global.Relationships.metrics.Evapotranspiration/MODIS.observational_products.SurfaceAirTemperature/CRU.scores.Overall Score.CESM2-WACCM</th>\n",
       "      <th>global.Relationships.metrics.Evapotranspiration/MODIS.observational_products.SurfaceAirTemperature/CRU.scores.Overall Score.CNRM-CM6-1</th>\n",
       "      <th>global.Relationships.metrics.Evapotranspiration/MODIS.observational_products.SurfaceAirTemperature/CRU.scores.Overall Score.CNRM-ESM2-1</th>\n",
       "      <th>global.Relationships.metrics.Evapotranspiration/MODIS.observational_products.SurfaceAirTemperature/CRU.scores.Overall Score.E3SMv1-CTC</th>\n",
       "      <th>global.Relationships.metrics.Evapotranspiration/MODIS.observational_products.SurfaceAirTemperature/CRU.scores.Overall Score.GISS-E2-1-G</th>\n",
       "      <th>global.Relationships.metrics.Evapotranspiration/MODIS.observational_products.SurfaceAirTemperature/CRU.scores.Overall Score.GISS-E2-1-H</th>\n",
       "      <th>global.Relationships.metrics.Evapotranspiration/MODIS.observational_products.SurfaceAirTemperature/CRU.scores.Overall Score.IPSL-CM6A-LR</th>\n",
       "      <th>global.Relationships.metrics.Evapotranspiration/MODIS.observational_products.SurfaceAirTemperature/CRU.scores.Overall Score.MIROC6</th>\n",
       "      <th>global.Relationships.metrics.Evapotranspiration/MODIS.observational_products.SurfaceAirTemperature/CRU.scores.Overall Score.MRI-ESM2-0</th>\n",
       "      <th>global.Relationships.metrics.Evapotranspiration/MODIS.observational_products.SurfaceAirTemperature/CRU.scores.Overall Score.MeanCMIP6</th>\n",
       "    </tr>\n",
       "  </thead>\n",
       "  <tbody>\n",
       "    <tr>\n",
       "      <th>0</th>\n",
       "      <td>-999</td>\n",
       "      <td>-999</td>\n",
       "      <td>-1.699756</td>\n",
       "      <td>-999</td>\n",
       "      <td>-999</td>\n",
       "      <td>-999</td>\n",
       "      <td>-999</td>\n",
       "      <td>0.008352</td>\n",
       "      <td>-1.834848</td>\n",
       "      <td>1.000802</td>\n",
       "      <td>...</td>\n",
       "      <td>0.809805</td>\n",
       "      <td>0.340529</td>\n",
       "      <td>0.556433</td>\n",
       "      <td>0.195735</td>\n",
       "      <td>-0.105734</td>\n",
       "      <td>-0.424612</td>\n",
       "      <td>0.602475</td>\n",
       "      <td>-0.81772</td>\n",
       "      <td>-0.325667</td>\n",
       "      <td>1.034749</td>\n",
       "    </tr>\n",
       "  </tbody>\n",
       "</table>\n",
       "<p>1 rows × 36639 columns</p>\n",
       "</div>"
      ],
      "text/plain": [
       "   globe.Ecosystem and Carbon Cycle.scores.Spatial Distribution Score.bcc-csm1-1  \\\n",
       "0                                               -999                               \n",
       "\n",
       "   globe.Ecosystem and Carbon Cycle.scores.Spatial Distribution Score.bcc-csm1-1-m  \\\n",
       "0                                               -999                                 \n",
       "\n",
       "   globe.Ecosystem and Carbon Cycle.scores.Spatial Distribution Score.CESM1-BGC  \\\n",
       "0                                          -1.699756                              \n",
       "\n",
       "   globe.Ecosystem and Carbon Cycle.scores.Spatial Distribution Score.GFDL-ESM2G  \\\n",
       "0                                               -999                               \n",
       "\n",
       "   globe.Ecosystem and Carbon Cycle.scores.Spatial Distribution Score.inmcm4  \\\n",
       "0                                               -999                           \n",
       "\n",
       "   globe.Ecosystem and Carbon Cycle.scores.Spatial Distribution Score.IPSL-CM5A-LR  \\\n",
       "0                                               -999                                 \n",
       "\n",
       "   globe.Ecosystem and Carbon Cycle.scores.Spatial Distribution Score.MIROC-ESM  \\\n",
       "0                                               -999                              \n",
       "\n",
       "   globe.Ecosystem and Carbon Cycle.scores.Spatial Distribution Score.MPI-ESM-LR  \\\n",
       "0                                           0.008352                               \n",
       "\n",
       "   globe.Ecosystem and Carbon Cycle.scores.Spatial Distribution Score.NorESM1-ME  \\\n",
       "0                                          -1.834848                               \n",
       "\n",
       "   globe.Ecosystem and Carbon Cycle.scores.Spatial Distribution Score.MeanCMIP5  \\\n",
       "0                                           1.000802                              \n",
       "\n",
       "   ...  \\\n",
       "0  ...   \n",
       "\n",
       "   global.Relationships.metrics.Evapotranspiration/MODIS.observational_products.SurfaceAirTemperature/CRU.scores.Overall Score.CESM2-WACCM  \\\n",
       "0                                           0.809805                                                                                         \n",
       "\n",
       "   global.Relationships.metrics.Evapotranspiration/MODIS.observational_products.SurfaceAirTemperature/CRU.scores.Overall Score.CNRM-CM6-1  \\\n",
       "0                                           0.340529                                                                                        \n",
       "\n",
       "   global.Relationships.metrics.Evapotranspiration/MODIS.observational_products.SurfaceAirTemperature/CRU.scores.Overall Score.CNRM-ESM2-1  \\\n",
       "0                                           0.556433                                                                                         \n",
       "\n",
       "   global.Relationships.metrics.Evapotranspiration/MODIS.observational_products.SurfaceAirTemperature/CRU.scores.Overall Score.E3SMv1-CTC  \\\n",
       "0                                           0.195735                                                                                        \n",
       "\n",
       "   global.Relationships.metrics.Evapotranspiration/MODIS.observational_products.SurfaceAirTemperature/CRU.scores.Overall Score.GISS-E2-1-G  \\\n",
       "0                                          -0.105734                                                                                         \n",
       "\n",
       "   global.Relationships.metrics.Evapotranspiration/MODIS.observational_products.SurfaceAirTemperature/CRU.scores.Overall Score.GISS-E2-1-H  \\\n",
       "0                                          -0.424612                                                                                         \n",
       "\n",
       "   global.Relationships.metrics.Evapotranspiration/MODIS.observational_products.SurfaceAirTemperature/CRU.scores.Overall Score.IPSL-CM6A-LR  \\\n",
       "0                                           0.602475                                                                                          \n",
       "\n",
       "   global.Relationships.metrics.Evapotranspiration/MODIS.observational_products.SurfaceAirTemperature/CRU.scores.Overall Score.MIROC6  \\\n",
       "0                                           -0.81772                                                                                    \n",
       "\n",
       "   global.Relationships.metrics.Evapotranspiration/MODIS.observational_products.SurfaceAirTemperature/CRU.scores.Overall Score.MRI-ESM2-0  \\\n",
       "0                                          -0.325667                                                                                        \n",
       "\n",
       "   global.Relationships.metrics.Evapotranspiration/MODIS.observational_products.SurfaceAirTemperature/CRU.scores.Overall Score.MeanCMIP6  \n",
       "0                                           1.034749                                                                                      \n",
       "\n",
       "[1 rows x 36639 columns]"
      ]
     },
     "execution_count": 15,
     "metadata": {},
     "output_type": "execute_result"
    }
   ],
   "source": [
    "test_data = json_normalize(data, sep=\".\")\n",
    "test_data.head()"
   ]
  },
  {
   "cell_type": "code",
   "execution_count": 17,
   "metadata": {},
   "outputs": [],
   "source": [
    "test_data.to_json(\"normalized_data.json\")"
   ]
  },
  {
   "cell_type": "code",
   "execution_count": 18,
   "metadata": {},
   "outputs": [],
   "source": [
    "flatten_json = flatten(data)"
   ]
  },
  {
   "cell_type": "code",
   "execution_count": 19,
   "metadata": {},
   "outputs": [],
   "source": [
    "with open(\"flattened_data.json\", \"w\") as write_file:\n",
    "    json.dump(flatten_json, write_file)"
   ]
  },
  {
   "cell_type": "code",
   "execution_count": 10,
   "metadata": {},
   "outputs": [
    {
     "data": {
      "text/html": [
       "<div>\n",
       "<style scoped>\n",
       "    .dataframe tbody tr th:only-of-type {\n",
       "        vertical-align: middle;\n",
       "    }\n",
       "\n",
       "    .dataframe tbody tr th {\n",
       "        vertical-align: top;\n",
       "    }\n",
       "\n",
       "    .dataframe thead th {\n",
       "        text-align: right;\n",
       "    }\n",
       "</style>\n",
       "<table border=\"1\" class=\"dataframe\">\n",
       "  <thead>\n",
       "    <tr style=\"text-align: right;\">\n",
       "      <th></th>\n",
       "      <th>0</th>\n",
       "    </tr>\n",
       "  </thead>\n",
       "  <tbody>\n",
       "    <tr>\n",
       "      <th>0</th>\n",
       "      <td>Biomass</td>\n",
       "    </tr>\n",
       "    <tr>\n",
       "      <th>1</th>\n",
       "      <td>Burned Area</td>\n",
       "    </tr>\n",
       "    <tr>\n",
       "      <th>2</th>\n",
       "      <td>Carbon Dioxide</td>\n",
       "    </tr>\n",
       "  </tbody>\n",
       "</table>\n",
       "</div>"
      ],
      "text/plain": [
       "                0\n",
       "0         Biomass\n",
       "1     Burned Area\n",
       "2  Carbon Dioxide"
      ]
     },
     "execution_count": 4,
     "metadata": {},
     "output_type": "execute_result"
    }
   ],
   "source": [
    "children_data = json_normalize(data=scalar_data['Ecosystem and Carbon Cycle'], record_path=['children'])\n",
    "children_data.head(3)"
   ]
  },
  {
   "cell_type": "code",
   "execution_count": 14,
   "metadata": {},
   "outputs": [
    {
     "name": "stdout",
     "output_type": "stream",
     "text": [
      "['Spatial Distribution Score global', 'Bias Score global', 'Overall Score global', 'children.Biomass.children.GEOCARBON.Spatial Distribution Score global', 'children.Biomass.children.GEOCARBON.Bias Score global', 'children.Biomass.children.GEOCARBON.Overall Score global', 'children.Biomass.children.Tropical.Spatial Distribution Score global', 'children.Biomass.children.Tropical.Bias Score global', 'children.Biomass.children.Tropical.Overall Score global', 'children.Biomass.children.GlobalCarbon.Spatial Distribution Score global', 'children.Biomass.children.GlobalCarbon.Bias Score global', 'children.Biomass.children.GlobalCarbon.Overall Score global', 'children.Biomass.children.NBCD2000.Spatial Distribution Score global', 'children.Biomass.children.NBCD2000.Bias Score global', 'children.Biomass.children.NBCD2000.Overall Score global', 'children.Biomass.children.USForest.Spatial Distribution Score global', 'children.Biomass.children.USForest.Bias Score global', 'children.Biomass.children.USForest.Overall Score global', 'children.Biomass.Spatial Distribution Score global', 'children.Biomass.Bias Score global', 'children.Biomass.Overall Score global', 'children.Burned Area.children.GFED4S.Spatial Distribution Score global', 'children.Burned Area.children.GFED4S.Seasonal Cycle Score global', 'children.Burned Area.children.GFED4S.Interannual Variability Score global', 'children.Burned Area.children.GFED4S.Bias Score global', 'children.Burned Area.children.GFED4S.RMSE Score global', 'children.Burned Area.children.GFED4S.Overall Score global', 'children.Burned Area.Spatial Distribution Score global', 'children.Burned Area.Seasonal Cycle Score global', 'children.Burned Area.Interannual Variability Score global', 'children.Burned Area.Bias Score global', 'children.Burned Area.RMSE Score global', 'children.Burned Area.Overall Score global', 'children.Carbon Dioxide.children.NOAA.Emulated.Amplitude Score global', 'children.Carbon Dioxide.children.NOAA.Emulated.Interannual Variability Score global', 'children.Carbon Dioxide.children.NOAA.Emulated.Max Phase Score global', 'children.Carbon Dioxide.children.NOAA.Emulated.Min Phase Score global', 'children.Carbon Dioxide.children.NOAA.Emulated.Overall Score global', 'children.Carbon Dioxide.Amplitude Score global', 'children.Carbon Dioxide.Interannual Variability Score global', 'children.Carbon Dioxide.Max Phase Score global', 'children.Carbon Dioxide.Min Phase Score global', 'children.Carbon Dioxide.Overall Score global', 'children.Gross Primary Productivity.children.Fluxnet.Bias Score global', 'children.Gross Primary Productivity.children.Fluxnet.Seasonal Cycle Score global', 'children.Gross Primary Productivity.children.Fluxnet.RMSE Score global', 'children.Gross Primary Productivity.children.Fluxnet.Interannual Variability Score global', 'children.Gross Primary Productivity.children.Fluxnet.Overall Score global', 'children.Gross Primary Productivity.children.GBAF.Spatial Distribution Score global', 'children.Gross Primary Productivity.children.GBAF.Seasonal Cycle Score global', 'children.Gross Primary Productivity.children.GBAF.Bias Score global', 'children.Gross Primary Productivity.children.GBAF.RMSE Score global', 'children.Gross Primary Productivity.children.GBAF.Overall Score global', 'children.Gross Primary Productivity.Bias Score global', 'children.Gross Primary Productivity.Seasonal Cycle Score global', 'children.Gross Primary Productivity.RMSE Score global', 'children.Gross Primary Productivity.Interannual Variability Score global', 'children.Gross Primary Productivity.Overall Score global', 'children.Leaf Area Index.children.AVHRR.Spatial Distribution Score global', 'children.Leaf Area Index.children.AVHRR.Seasonal Cycle Score global', 'children.Leaf Area Index.children.AVHRR.Interannual Variability Score global', 'children.Leaf Area Index.children.AVHRR.Bias Score global', 'children.Leaf Area Index.children.AVHRR.RMSE Score global', 'children.Leaf Area Index.children.AVHRR.Overall Score global', 'children.Leaf Area Index.children.MODIS.Spatial Distribution Score global', 'children.Leaf Area Index.children.MODIS.Seasonal Cycle Score global', 'children.Leaf Area Index.children.MODIS.Bias Score global', 'children.Leaf Area Index.children.MODIS.RMSE Score global', 'children.Leaf Area Index.children.MODIS.Overall Score global', 'children.Leaf Area Index.Spatial Distribution Score global', 'children.Leaf Area Index.Seasonal Cycle Score global', 'children.Leaf Area Index.Interannual Variability Score global', 'children.Leaf Area Index.Bias Score global', 'children.Leaf Area Index.RMSE Score global', 'children.Leaf Area Index.Overall Score global', 'children.Global Net Ecosystem Carbon Balance.children.GCP.Difference Score global', 'children.Global Net Ecosystem Carbon Balance.children.GCP.Temporal Distribution Score global', 'children.Global Net Ecosystem Carbon Balance.children.GCP.Overall Score global', 'children.Global Net Ecosystem Carbon Balance.children.Hoffman.Difference Score global', 'children.Global Net Ecosystem Carbon Balance.children.Hoffman.Overall Score global', 'children.Global Net Ecosystem Carbon Balance.Difference Score global', 'children.Global Net Ecosystem Carbon Balance.Temporal Distribution Score global', 'children.Global Net Ecosystem Carbon Balance.Overall Score global', 'children.Net Ecosystem Exchange.children.Fluxnet.Bias Score global', 'children.Net Ecosystem Exchange.children.Fluxnet.Seasonal Cycle Score global', 'children.Net Ecosystem Exchange.children.Fluxnet.RMSE Score global', 'children.Net Ecosystem Exchange.children.Fluxnet.Interannual Variability Score global', 'children.Net Ecosystem Exchange.children.Fluxnet.Overall Score global', 'children.Net Ecosystem Exchange.children.GBAF.Spatial Distribution Score global', 'children.Net Ecosystem Exchange.children.GBAF.Seasonal Cycle Score global', 'children.Net Ecosystem Exchange.children.GBAF.Bias Score global', 'children.Net Ecosystem Exchange.children.GBAF.RMSE Score global', 'children.Net Ecosystem Exchange.children.GBAF.Overall Score global', 'children.Net Ecosystem Exchange.Bias Score global', 'children.Net Ecosystem Exchange.Seasonal Cycle Score global', 'children.Net Ecosystem Exchange.RMSE Score global', 'children.Net Ecosystem Exchange.Interannual Variability Score global', 'children.Net Ecosystem Exchange.Overall Score global', 'children.Ecosystem Respiration.children.Fluxnet.Bias Score global', 'children.Ecosystem Respiration.children.Fluxnet.Seasonal Cycle Score global', 'children.Ecosystem Respiration.children.Fluxnet.RMSE Score global', 'children.Ecosystem Respiration.children.Fluxnet.Interannual Variability Score global', 'children.Ecosystem Respiration.children.Fluxnet.Overall Score global', 'children.Ecosystem Respiration.children.GBAF.Spatial Distribution Score global', 'children.Ecosystem Respiration.children.GBAF.Seasonal Cycle Score global', 'children.Ecosystem Respiration.children.GBAF.Bias Score global', 'children.Ecosystem Respiration.children.GBAF.RMSE Score global', 'children.Ecosystem Respiration.children.GBAF.Overall Score global', 'children.Ecosystem Respiration.Bias Score global', 'children.Ecosystem Respiration.Seasonal Cycle Score global', 'children.Ecosystem Respiration.RMSE Score global', 'children.Ecosystem Respiration.Interannual Variability Score global', 'children.Ecosystem Respiration.Overall Score global', 'children.Soil Carbon.children.HWSD.Spatial Distribution Score global', 'children.Soil Carbon.children.HWSD.Bias Score global', 'children.Soil Carbon.children.HWSD.Overall Score global', 'children.Soil Carbon.children.NCSCDV22.Spatial Distribution Score global', 'children.Soil Carbon.children.NCSCDV22.Bias Score global', 'children.Soil Carbon.children.NCSCDV22.Overall Score global', 'children.Soil Carbon.Spatial Distribution Score global', 'children.Soil Carbon.Bias Score global', 'children.Soil Carbon.Overall Score global']\n"
     ]
    }
   ],
   "source": [
    "global_columns = [col for col in test_data.columns if 'global' in col]\n",
    "print(global_columns)"
   ]
  },
  {
   "cell_type": "code",
   "execution_count": 35,
   "metadata": {},
   "outputs": [],
   "source": [
    "class Region(object):\n",
    "    def __init__(self, name):\n",
    "        self.name = name\n",
    "        self.metric_catalogue = None\n",
    "    \n",
    "    def __str__(self):\n",
    "        return str(self.name)\n",
    "    "
   ]
  },
  {
   "cell_type": "code",
   "execution_count": 36,
   "metadata": {},
   "outputs": [],
   "source": [
    "class MetricCatalogue(object):\n",
    "    def __init__(self, name):\n",
    "        self.name = name\n",
    "        self.scores = None\n",
    "        self.metrics = None\n",
    "    \n",
    "    def __str__(self):\n",
    "        return str(self.name)"
   ]
  },
  {
   "cell_type": "code",
   "execution_count": 47,
   "metadata": {},
   "outputs": [],
   "source": [
    "class Metric(object):\n",
    "    def __init__(self, name, scores, region):\n",
    "        self.name = name\n",
    "        self.scores = scores\n",
    "        self.region = region\n",
    "#         self.observational_products = None\n",
    "    def __str__(self):\n",
    "        return str(self.name)"
   ]
  },
  {
   "cell_type": "code",
   "execution_count": 53,
   "metadata": {},
   "outputs": [
    {
     "name": "stdout",
     "output_type": "stream",
     "text": [
      "{'Spatial Distribution Score': [-1.3781402005154966, -1.6027807377679966, 1.119973955423911, -0.006327760617965289, -0.2819375165374983, 0.8525210991935368, -1.9146281936454548, -1.1555870084686382, 0.8967565756814948, 0.016264537911517083, -0.5925032946972298, -0.2870022816376711, 1.3027858950196538, 1.3234510402767277, -999, 0.22828244873706444, 1.1137080115760354, -999, -999, -0.27796506596147263, -999, -999, 0.6431284960294728], 'Bias Score': [-0.6399375925766302, -1.0108122356871663, 0.45124530812540053, -0.7498943745538078, -0.6733906730322314, -0.5467566600419714, -1.8194448417286586, -1.139378392313906, 0.07999679224675713, 0.7383679685301003, -0.2912656679302592, 0.0366710310513623, 1.72366445294885, 1.7751149240951982, -999, -0.1979619181067939, 0.5132187468894708, -999, -999, -0.08575348101982856, -999, -999, 1.8363166131041355], 'Overall Score': [-1.2648740926394078, -1.5313595294557112, 1.0123575551343686, -0.1747999980729382, -0.381495600631861, 0.5691939959917459, -1.9677619658250338, -1.1969864410650224, 0.7469442148133294, 0.18026843955384042, -0.547457817749557, -0.2249667577025793, 1.4488130672377286, 1.477249039609312, -999, 0.14075111601512694, 1.0212858123478579, -999, -999, -0.24531917113570212, -999, -999, 0.9381581335745017]}\n"
     ]
    }
   ],
   "source": [
    "child = scalar_data[metric_catalogues_list[0]]['children'][\"Biomass\"]['children']['GEOCARBON']\n",
    "# print(child)\n",
    "score_dict = {key.rsplit(' ', 1)[0]:value for (key,value) in child.items() if key != 'children' and 'global' in key}\n",
    "print(score_dict)"
   ]
  },
  {
   "cell_type": "code",
   "execution_count": 54,
   "metadata": {},
   "outputs": [],
   "source": [
    "geocarbon = Metric('GEOCARBON', score_dict, 'global')"
   ]
  },
  {
   "cell_type": "code",
   "execution_count": 55,
   "metadata": {},
   "outputs": [
    {
     "data": {
      "text/plain": [
       "{'name': 'GEOCARBON',\n",
       " 'scores': {'Spatial Distribution Score': [-1.3781402005154966,\n",
       "   -1.6027807377679966,\n",
       "   1.119973955423911,\n",
       "   -0.006327760617965289,\n",
       "   -0.2819375165374983,\n",
       "   0.8525210991935368,\n",
       "   -1.9146281936454548,\n",
       "   -1.1555870084686382,\n",
       "   0.8967565756814948,\n",
       "   0.016264537911517083,\n",
       "   -0.5925032946972298,\n",
       "   -0.2870022816376711,\n",
       "   1.3027858950196538,\n",
       "   1.3234510402767277,\n",
       "   -999,\n",
       "   0.22828244873706444,\n",
       "   1.1137080115760354,\n",
       "   -999,\n",
       "   -999,\n",
       "   -0.27796506596147263,\n",
       "   -999,\n",
       "   -999,\n",
       "   0.6431284960294728],\n",
       "  'Bias Score': [-0.6399375925766302,\n",
       "   -1.0108122356871663,\n",
       "   0.45124530812540053,\n",
       "   -0.7498943745538078,\n",
       "   -0.6733906730322314,\n",
       "   -0.5467566600419714,\n",
       "   -1.8194448417286586,\n",
       "   -1.139378392313906,\n",
       "   0.07999679224675713,\n",
       "   0.7383679685301003,\n",
       "   -0.2912656679302592,\n",
       "   0.0366710310513623,\n",
       "   1.72366445294885,\n",
       "   1.7751149240951982,\n",
       "   -999,\n",
       "   -0.1979619181067939,\n",
       "   0.5132187468894708,\n",
       "   -999,\n",
       "   -999,\n",
       "   -0.08575348101982856,\n",
       "   -999,\n",
       "   -999,\n",
       "   1.8363166131041355],\n",
       "  'Overall Score': [-1.2648740926394078,\n",
       "   -1.5313595294557112,\n",
       "   1.0123575551343686,\n",
       "   -0.1747999980729382,\n",
       "   -0.381495600631861,\n",
       "   0.5691939959917459,\n",
       "   -1.9677619658250338,\n",
       "   -1.1969864410650224,\n",
       "   0.7469442148133294,\n",
       "   0.18026843955384042,\n",
       "   -0.547457817749557,\n",
       "   -0.2249667577025793,\n",
       "   1.4488130672377286,\n",
       "   1.477249039609312,\n",
       "   -999,\n",
       "   0.14075111601512694,\n",
       "   1.0212858123478579,\n",
       "   -999,\n",
       "   -999,\n",
       "   -0.24531917113570212,\n",
       "   -999,\n",
       "   -999,\n",
       "   0.9381581335745017]},\n",
       " 'region': 'global'}"
      ]
     },
     "execution_count": 55,
     "metadata": {},
     "output_type": "execute_result"
    }
   ],
   "source": [
    "geocarbon.__dict__"
   ]
  },
  {
   "cell_type": "code",
   "execution_count": 14,
   "metadata": {},
   "outputs": [],
   "source": [
    "def extract_values(obj, key):\n",
    "    \"\"\"Recursively pull values of specified key from nested JSON.\"\"\"\n",
    "    arr = []\n",
    "\n",
    "    def extract(obj, arr, key):\n",
    "        \"\"\"Return all matching values in an object.\"\"\"\n",
    "        if isinstance(obj, dict):\n",
    "            for k, v in obj.items():\n",
    "                if isinstance(v, (dict, list)):\n",
    "                    extract(v, arr, key)\n",
    "                elif k == key:\n",
    "                    arr.append(v)\n",
    "        elif isinstance(obj, list):\n",
    "            for item in obj:\n",
    "                extract(item, arr, key)\n",
    "        return arr\n",
    "\n",
    "    results = extract(obj, arr, key)\n",
    "    return results"
   ]
  },
  {
   "cell_type": "code",
   "execution_count": 17,
   "metadata": {},
   "outputs": [],
   "source": [
    "names = extract_values(scalar_data, 'Bias Score global')"
   ]
  },
  {
   "cell_type": "code",
   "execution_count": 18,
   "metadata": {},
   "outputs": [
    {
     "data": {
      "text/plain": [
       "[]"
      ]
     },
     "execution_count": 18,
     "metadata": {},
     "output_type": "execute_result"
    }
   ],
   "source": [
    "names"
   ]
  },
  {
   "cell_type": "code",
   "execution_count": null,
   "metadata": {},
   "outputs": [],
   "source": []
  }
 ],
 "metadata": {
  "kernelspec": {
   "display_name": "Python 3",
   "language": "python",
   "name": "python3"
  },
  "language_info": {
   "codemirror_mode": {
    "name": "ipython",
    "version": 3
   },
   "file_extension": ".py",
   "mimetype": "text/x-python",
   "name": "python",
   "nbconvert_exporter": "python",
   "pygments_lexer": "ipython3",
   "version": "3.7.3"
  }
 },
 "nbformat": 4,
 "nbformat_minor": 4
}
