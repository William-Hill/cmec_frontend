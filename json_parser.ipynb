{
 "cells": [
  {
   "cell_type": "code",
   "execution_count": 1,
   "metadata": {},
   "outputs": [],
   "source": [
    "import json\n",
    "import pandas as pd\n",
    "# package for flattening json in pandas df\n",
    "from pandas.io.json import json_normalize"
   ]
  },
  {
   "cell_type": "code",
   "execution_count": 2,
   "metadata": {},
   "outputs": [],
   "source": [
    "# load json object\n",
    "with open('test.json') as scalar_json:\n",
    "    scalar_data = json.load(scalar_json)"
   ]
  },
  {
   "cell_type": "code",
   "execution_count": 3,
   "metadata": {},
   "outputs": [
    {
     "data": {
      "text/html": [
       "<div>\n",
       "<style scoped>\n",
       "    .dataframe tbody tr th:only-of-type {\n",
       "        vertical-align: middle;\n",
       "    }\n",
       "\n",
       "    .dataframe tbody tr th {\n",
       "        vertical-align: top;\n",
       "    }\n",
       "\n",
       "    .dataframe thead th {\n",
       "        text-align: right;\n",
       "    }\n",
       "</style>\n",
       "<table border=\"1\" class=\"dataframe\">\n",
       "  <thead>\n",
       "    <tr style=\"text-align: right;\">\n",
       "      <th></th>\n",
       "      <th>Spatial Distribution Score global</th>\n",
       "      <th>Spatial Distribution Score globe</th>\n",
       "      <th>Spatial Distribution Score southamericaamazon</th>\n",
       "      <th>Bias Score global</th>\n",
       "      <th>Bias Score globe</th>\n",
       "      <th>Bias Score southamericaamazon</th>\n",
       "      <th>Overall Score global</th>\n",
       "      <th>Overall Score globe</th>\n",
       "      <th>Overall Score southamericaamazon</th>\n",
       "      <th>children.Biomass.children.GEOCARBON.Spatial Distribution Score global</th>\n",
       "      <th>...</th>\n",
       "      <th>children.Soil Carbon.children.NCSCDV22.Overall Score globe</th>\n",
       "      <th>children.Soil Carbon.Spatial Distribution Score global</th>\n",
       "      <th>children.Soil Carbon.Spatial Distribution Score globe</th>\n",
       "      <th>children.Soil Carbon.Spatial Distribution Score southamericaamazon</th>\n",
       "      <th>children.Soil Carbon.Bias Score global</th>\n",
       "      <th>children.Soil Carbon.Bias Score globe</th>\n",
       "      <th>children.Soil Carbon.Bias Score southamericaamazon</th>\n",
       "      <th>children.Soil Carbon.Overall Score global</th>\n",
       "      <th>children.Soil Carbon.Overall Score globe</th>\n",
       "      <th>children.Soil Carbon.Overall Score southamericaamazon</th>\n",
       "    </tr>\n",
       "  </thead>\n",
       "  <tbody>\n",
       "    <tr>\n",
       "      <th>0</th>\n",
       "      <td>[-999, -999, -1.721753310063378, -999, -999, -...</td>\n",
       "      <td>[-999, -999, -1.6997561647504578, -999, -999, ...</td>\n",
       "      <td>[-999, -999, -1.4809882293451395, -999, -999, ...</td>\n",
       "      <td>[-999, -999, -1.4333564932005, -999, -999, -99...</td>\n",
       "      <td>[-999, -999, -1.4270234668657849, -999, -999, ...</td>\n",
       "      <td>[-999, -999, -1.5251221678228921, -999, -999, ...</td>\n",
       "      <td>[-999, -999, -1.6415293795984185, -999, -999, ...</td>\n",
       "      <td>[-999, -999, -1.602499713288684, -999, -999, -...</td>\n",
       "      <td>[-999, -999, -1.2416465838986916, -999, -999, ...</td>\n",
       "      <td>[-1.3781402005154966, -1.6027807377679966, 1.1...</td>\n",
       "      <td>...</td>\n",
       "      <td>[-0.6105593523426626, -0.5236900370634565, -1....</td>\n",
       "      <td>[0.042059585820134845, 0.13061271146443834, -1...</td>\n",
       "      <td>[0.06480465785835464, 0.14849992327321582, -1....</td>\n",
       "      <td>[-0.11431676722464468, -0.2088932468773217, -0...</td>\n",
       "      <td>[0.5123891229286289, 0.26230310994439093, -1.5...</td>\n",
       "      <td>[0.5127786280426359, 0.25080845643030564, -1.5...</td>\n",
       "      <td>[0.07046400910359513, -0.7862439539773598, 0.4...</td>\n",
       "      <td>[0.14175644300556797, 0.16889061302853903, -1....</td>\n",
       "      <td>[0.15977177727822084, 0.18193553304273985, -1....</td>\n",
       "      <td>[-0.09645820453134153, -0.47489036050604927, -...</td>\n",
       "    </tr>\n",
       "  </tbody>\n",
       "</table>\n",
       "<p>1 rows × 321 columns</p>\n",
       "</div>"
      ],
      "text/plain": [
       "                   Spatial Distribution Score global  \\\n",
       "0  [-999, -999, -1.721753310063378, -999, -999, -...   \n",
       "\n",
       "                    Spatial Distribution Score globe  \\\n",
       "0  [-999, -999, -1.6997561647504578, -999, -999, ...   \n",
       "\n",
       "       Spatial Distribution Score southamericaamazon  \\\n",
       "0  [-999, -999, -1.4809882293451395, -999, -999, ...   \n",
       "\n",
       "                                   Bias Score global  \\\n",
       "0  [-999, -999, -1.4333564932005, -999, -999, -99...   \n",
       "\n",
       "                                    Bias Score globe  \\\n",
       "0  [-999, -999, -1.4270234668657849, -999, -999, ...   \n",
       "\n",
       "                       Bias Score southamericaamazon  \\\n",
       "0  [-999, -999, -1.5251221678228921, -999, -999, ...   \n",
       "\n",
       "                                Overall Score global  \\\n",
       "0  [-999, -999, -1.6415293795984185, -999, -999, ...   \n",
       "\n",
       "                                 Overall Score globe  \\\n",
       "0  [-999, -999, -1.602499713288684, -999, -999, -...   \n",
       "\n",
       "                    Overall Score southamericaamazon  \\\n",
       "0  [-999, -999, -1.2416465838986916, -999, -999, ...   \n",
       "\n",
       "  children.Biomass.children.GEOCARBON.Spatial Distribution Score global  ...  \\\n",
       "0  [-1.3781402005154966, -1.6027807377679966, 1.1...                     ...   \n",
       "\n",
       "  children.Soil Carbon.children.NCSCDV22.Overall Score globe  \\\n",
       "0  [-0.6105593523426626, -0.5236900370634565, -1....           \n",
       "\n",
       "  children.Soil Carbon.Spatial Distribution Score global  \\\n",
       "0  [0.042059585820134845, 0.13061271146443834, -1...       \n",
       "\n",
       "  children.Soil Carbon.Spatial Distribution Score globe  \\\n",
       "0  [0.06480465785835464, 0.14849992327321582, -1....      \n",
       "\n",
       "  children.Soil Carbon.Spatial Distribution Score southamericaamazon  \\\n",
       "0  [-0.11431676722464468, -0.2088932468773217, -0...                   \n",
       "\n",
       "              children.Soil Carbon.Bias Score global  \\\n",
       "0  [0.5123891229286289, 0.26230310994439093, -1.5...   \n",
       "\n",
       "               children.Soil Carbon.Bias Score globe  \\\n",
       "0  [0.5127786280426359, 0.25080845643030564, -1.5...   \n",
       "\n",
       "  children.Soil Carbon.Bias Score southamericaamazon  \\\n",
       "0  [0.07046400910359513, -0.7862439539773598, 0.4...   \n",
       "\n",
       "           children.Soil Carbon.Overall Score global  \\\n",
       "0  [0.14175644300556797, 0.16889061302853903, -1....   \n",
       "\n",
       "            children.Soil Carbon.Overall Score globe  \\\n",
       "0  [0.15977177727822084, 0.18193553304273985, -1....   \n",
       "\n",
       "  children.Soil Carbon.Overall Score southamericaamazon  \n",
       "0  [-0.09645820453134153, -0.47489036050604927, -...     \n",
       "\n",
       "[1 rows x 321 columns]"
      ]
     },
     "execution_count": 3,
     "metadata": {},
     "output_type": "execute_result"
    }
   ],
   "source": [
    "test_data = json_normalize(scalar_data['Ecosystem and Carbon Cycle'])\n",
    "test_data.head()"
   ]
  },
  {
   "cell_type": "code",
   "execution_count": 4,
   "metadata": {},
   "outputs": [
    {
     "data": {
      "text/html": [
       "<div>\n",
       "<style scoped>\n",
       "    .dataframe tbody tr th:only-of-type {\n",
       "        vertical-align: middle;\n",
       "    }\n",
       "\n",
       "    .dataframe tbody tr th {\n",
       "        vertical-align: top;\n",
       "    }\n",
       "\n",
       "    .dataframe thead th {\n",
       "        text-align: right;\n",
       "    }\n",
       "</style>\n",
       "<table border=\"1\" class=\"dataframe\">\n",
       "  <thead>\n",
       "    <tr style=\"text-align: right;\">\n",
       "      <th></th>\n",
       "      <th>0</th>\n",
       "    </tr>\n",
       "  </thead>\n",
       "  <tbody>\n",
       "    <tr>\n",
       "      <th>0</th>\n",
       "      <td>Biomass</td>\n",
       "    </tr>\n",
       "    <tr>\n",
       "      <th>1</th>\n",
       "      <td>Burned Area</td>\n",
       "    </tr>\n",
       "    <tr>\n",
       "      <th>2</th>\n",
       "      <td>Carbon Dioxide</td>\n",
       "    </tr>\n",
       "  </tbody>\n",
       "</table>\n",
       "</div>"
      ],
      "text/plain": [
       "                0\n",
       "0         Biomass\n",
       "1     Burned Area\n",
       "2  Carbon Dioxide"
      ]
     },
     "execution_count": 4,
     "metadata": {},
     "output_type": "execute_result"
    }
   ],
   "source": [
    "children_data = json_normalize(data=scalar_data['Ecosystem and Carbon Cycle'], record_path=['children'])\n",
    "children_data.head(3)"
   ]
  },
  {
   "cell_type": "code",
   "execution_count": 14,
   "metadata": {},
   "outputs": [
    {
     "name": "stdout",
     "output_type": "stream",
     "text": [
      "['Spatial Distribution Score global', 'Bias Score global', 'Overall Score global', 'children.Biomass.children.GEOCARBON.Spatial Distribution Score global', 'children.Biomass.children.GEOCARBON.Bias Score global', 'children.Biomass.children.GEOCARBON.Overall Score global', 'children.Biomass.children.Tropical.Spatial Distribution Score global', 'children.Biomass.children.Tropical.Bias Score global', 'children.Biomass.children.Tropical.Overall Score global', 'children.Biomass.children.GlobalCarbon.Spatial Distribution Score global', 'children.Biomass.children.GlobalCarbon.Bias Score global', 'children.Biomass.children.GlobalCarbon.Overall Score global', 'children.Biomass.children.NBCD2000.Spatial Distribution Score global', 'children.Biomass.children.NBCD2000.Bias Score global', 'children.Biomass.children.NBCD2000.Overall Score global', 'children.Biomass.children.USForest.Spatial Distribution Score global', 'children.Biomass.children.USForest.Bias Score global', 'children.Biomass.children.USForest.Overall Score global', 'children.Biomass.Spatial Distribution Score global', 'children.Biomass.Bias Score global', 'children.Biomass.Overall Score global', 'children.Burned Area.children.GFED4S.Spatial Distribution Score global', 'children.Burned Area.children.GFED4S.Seasonal Cycle Score global', 'children.Burned Area.children.GFED4S.Interannual Variability Score global', 'children.Burned Area.children.GFED4S.Bias Score global', 'children.Burned Area.children.GFED4S.RMSE Score global', 'children.Burned Area.children.GFED4S.Overall Score global', 'children.Burned Area.Spatial Distribution Score global', 'children.Burned Area.Seasonal Cycle Score global', 'children.Burned Area.Interannual Variability Score global', 'children.Burned Area.Bias Score global', 'children.Burned Area.RMSE Score global', 'children.Burned Area.Overall Score global', 'children.Carbon Dioxide.children.NOAA.Emulated.Amplitude Score global', 'children.Carbon Dioxide.children.NOAA.Emulated.Interannual Variability Score global', 'children.Carbon Dioxide.children.NOAA.Emulated.Max Phase Score global', 'children.Carbon Dioxide.children.NOAA.Emulated.Min Phase Score global', 'children.Carbon Dioxide.children.NOAA.Emulated.Overall Score global', 'children.Carbon Dioxide.Amplitude Score global', 'children.Carbon Dioxide.Interannual Variability Score global', 'children.Carbon Dioxide.Max Phase Score global', 'children.Carbon Dioxide.Min Phase Score global', 'children.Carbon Dioxide.Overall Score global', 'children.Gross Primary Productivity.children.Fluxnet.Bias Score global', 'children.Gross Primary Productivity.children.Fluxnet.Seasonal Cycle Score global', 'children.Gross Primary Productivity.children.Fluxnet.RMSE Score global', 'children.Gross Primary Productivity.children.Fluxnet.Interannual Variability Score global', 'children.Gross Primary Productivity.children.Fluxnet.Overall Score global', 'children.Gross Primary Productivity.children.GBAF.Spatial Distribution Score global', 'children.Gross Primary Productivity.children.GBAF.Seasonal Cycle Score global', 'children.Gross Primary Productivity.children.GBAF.Bias Score global', 'children.Gross Primary Productivity.children.GBAF.RMSE Score global', 'children.Gross Primary Productivity.children.GBAF.Overall Score global', 'children.Gross Primary Productivity.Bias Score global', 'children.Gross Primary Productivity.Seasonal Cycle Score global', 'children.Gross Primary Productivity.RMSE Score global', 'children.Gross Primary Productivity.Interannual Variability Score global', 'children.Gross Primary Productivity.Overall Score global', 'children.Leaf Area Index.children.AVHRR.Spatial Distribution Score global', 'children.Leaf Area Index.children.AVHRR.Seasonal Cycle Score global', 'children.Leaf Area Index.children.AVHRR.Interannual Variability Score global', 'children.Leaf Area Index.children.AVHRR.Bias Score global', 'children.Leaf Area Index.children.AVHRR.RMSE Score global', 'children.Leaf Area Index.children.AVHRR.Overall Score global', 'children.Leaf Area Index.children.MODIS.Spatial Distribution Score global', 'children.Leaf Area Index.children.MODIS.Seasonal Cycle Score global', 'children.Leaf Area Index.children.MODIS.Bias Score global', 'children.Leaf Area Index.children.MODIS.RMSE Score global', 'children.Leaf Area Index.children.MODIS.Overall Score global', 'children.Leaf Area Index.Spatial Distribution Score global', 'children.Leaf Area Index.Seasonal Cycle Score global', 'children.Leaf Area Index.Interannual Variability Score global', 'children.Leaf Area Index.Bias Score global', 'children.Leaf Area Index.RMSE Score global', 'children.Leaf Area Index.Overall Score global', 'children.Global Net Ecosystem Carbon Balance.children.GCP.Difference Score global', 'children.Global Net Ecosystem Carbon Balance.children.GCP.Temporal Distribution Score global', 'children.Global Net Ecosystem Carbon Balance.children.GCP.Overall Score global', 'children.Global Net Ecosystem Carbon Balance.children.Hoffman.Difference Score global', 'children.Global Net Ecosystem Carbon Balance.children.Hoffman.Overall Score global', 'children.Global Net Ecosystem Carbon Balance.Difference Score global', 'children.Global Net Ecosystem Carbon Balance.Temporal Distribution Score global', 'children.Global Net Ecosystem Carbon Balance.Overall Score global', 'children.Net Ecosystem Exchange.children.Fluxnet.Bias Score global', 'children.Net Ecosystem Exchange.children.Fluxnet.Seasonal Cycle Score global', 'children.Net Ecosystem Exchange.children.Fluxnet.RMSE Score global', 'children.Net Ecosystem Exchange.children.Fluxnet.Interannual Variability Score global', 'children.Net Ecosystem Exchange.children.Fluxnet.Overall Score global', 'children.Net Ecosystem Exchange.children.GBAF.Spatial Distribution Score global', 'children.Net Ecosystem Exchange.children.GBAF.Seasonal Cycle Score global', 'children.Net Ecosystem Exchange.children.GBAF.Bias Score global', 'children.Net Ecosystem Exchange.children.GBAF.RMSE Score global', 'children.Net Ecosystem Exchange.children.GBAF.Overall Score global', 'children.Net Ecosystem Exchange.Bias Score global', 'children.Net Ecosystem Exchange.Seasonal Cycle Score global', 'children.Net Ecosystem Exchange.RMSE Score global', 'children.Net Ecosystem Exchange.Interannual Variability Score global', 'children.Net Ecosystem Exchange.Overall Score global', 'children.Ecosystem Respiration.children.Fluxnet.Bias Score global', 'children.Ecosystem Respiration.children.Fluxnet.Seasonal Cycle Score global', 'children.Ecosystem Respiration.children.Fluxnet.RMSE Score global', 'children.Ecosystem Respiration.children.Fluxnet.Interannual Variability Score global', 'children.Ecosystem Respiration.children.Fluxnet.Overall Score global', 'children.Ecosystem Respiration.children.GBAF.Spatial Distribution Score global', 'children.Ecosystem Respiration.children.GBAF.Seasonal Cycle Score global', 'children.Ecosystem Respiration.children.GBAF.Bias Score global', 'children.Ecosystem Respiration.children.GBAF.RMSE Score global', 'children.Ecosystem Respiration.children.GBAF.Overall Score global', 'children.Ecosystem Respiration.Bias Score global', 'children.Ecosystem Respiration.Seasonal Cycle Score global', 'children.Ecosystem Respiration.RMSE Score global', 'children.Ecosystem Respiration.Interannual Variability Score global', 'children.Ecosystem Respiration.Overall Score global', 'children.Soil Carbon.children.HWSD.Spatial Distribution Score global', 'children.Soil Carbon.children.HWSD.Bias Score global', 'children.Soil Carbon.children.HWSD.Overall Score global', 'children.Soil Carbon.children.NCSCDV22.Spatial Distribution Score global', 'children.Soil Carbon.children.NCSCDV22.Bias Score global', 'children.Soil Carbon.children.NCSCDV22.Overall Score global', 'children.Soil Carbon.Spatial Distribution Score global', 'children.Soil Carbon.Bias Score global', 'children.Soil Carbon.Overall Score global']\n"
     ]
    }
   ],
   "source": [
    "global_columns = [col for col in test_data.columns if 'global' in col]\n",
    "print(global_columns)"
   ]
  },
  {
   "cell_type": "code",
   "execution_count": 35,
   "metadata": {},
   "outputs": [],
   "source": [
    "class Region(object):\n",
    "    def __init__(self, name):\n",
    "        self.name = name\n",
    "        self.metric_catalogue = None\n",
    "    \n",
    "    def __str__(self):\n",
    "        return str(self.name)\n",
    "    "
   ]
  },
  {
   "cell_type": "code",
   "execution_count": 36,
   "metadata": {},
   "outputs": [],
   "source": [
    "class MetricCatalogue(object):\n",
    "    def __init__(self, name):\n",
    "        self.name = name\n",
    "        self.scores = None\n",
    "        self.metrics = None\n",
    "    \n",
    "    def __str__(self):\n",
    "        return str(self.name)"
   ]
  },
  {
   "cell_type": "code",
   "execution_count": 47,
   "metadata": {},
   "outputs": [],
   "source": [
    "class Metric(object):\n",
    "    def __init__(self, name, scores, region):\n",
    "        self.name = name\n",
    "        self.scores = scores\n",
    "        self.region = region\n",
    "#         self.observational_products = None\n",
    "    def __str__(self):\n",
    "        return str(self.name)"
   ]
  },
  {
   "cell_type": "code",
   "execution_count": 53,
   "metadata": {},
   "outputs": [
    {
     "name": "stdout",
     "output_type": "stream",
     "text": [
      "{'Spatial Distribution Score': [-1.3781402005154966, -1.6027807377679966, 1.119973955423911, -0.006327760617965289, -0.2819375165374983, 0.8525210991935368, -1.9146281936454548, -1.1555870084686382, 0.8967565756814948, 0.016264537911517083, -0.5925032946972298, -0.2870022816376711, 1.3027858950196538, 1.3234510402767277, -999, 0.22828244873706444, 1.1137080115760354, -999, -999, -0.27796506596147263, -999, -999, 0.6431284960294728], 'Bias Score': [-0.6399375925766302, -1.0108122356871663, 0.45124530812540053, -0.7498943745538078, -0.6733906730322314, -0.5467566600419714, -1.8194448417286586, -1.139378392313906, 0.07999679224675713, 0.7383679685301003, -0.2912656679302592, 0.0366710310513623, 1.72366445294885, 1.7751149240951982, -999, -0.1979619181067939, 0.5132187468894708, -999, -999, -0.08575348101982856, -999, -999, 1.8363166131041355], 'Overall Score': [-1.2648740926394078, -1.5313595294557112, 1.0123575551343686, -0.1747999980729382, -0.381495600631861, 0.5691939959917459, -1.9677619658250338, -1.1969864410650224, 0.7469442148133294, 0.18026843955384042, -0.547457817749557, -0.2249667577025793, 1.4488130672377286, 1.477249039609312, -999, 0.14075111601512694, 1.0212858123478579, -999, -999, -0.24531917113570212, -999, -999, 0.9381581335745017]}\n"
     ]
    }
   ],
   "source": [
    "child = scalar_data[metric_catalogues_list[0]]['children'][\"Biomass\"]['children']['GEOCARBON']\n",
    "# print(child)\n",
    "score_dict = {key.rsplit(' ', 1)[0]:value for (key,value) in child.items() if key != 'children' and 'global' in key}\n",
    "print(score_dict)"
   ]
  },
  {
   "cell_type": "code",
   "execution_count": 54,
   "metadata": {},
   "outputs": [],
   "source": [
    "geocarbon = Metric('GEOCARBON', score_dict, 'global')"
   ]
  },
  {
   "cell_type": "code",
   "execution_count": 55,
   "metadata": {},
   "outputs": [
    {
     "data": {
      "text/plain": [
       "{'name': 'GEOCARBON',\n",
       " 'scores': {'Spatial Distribution Score': [-1.3781402005154966,\n",
       "   -1.6027807377679966,\n",
       "   1.119973955423911,\n",
       "   -0.006327760617965289,\n",
       "   -0.2819375165374983,\n",
       "   0.8525210991935368,\n",
       "   -1.9146281936454548,\n",
       "   -1.1555870084686382,\n",
       "   0.8967565756814948,\n",
       "   0.016264537911517083,\n",
       "   -0.5925032946972298,\n",
       "   -0.2870022816376711,\n",
       "   1.3027858950196538,\n",
       "   1.3234510402767277,\n",
       "   -999,\n",
       "   0.22828244873706444,\n",
       "   1.1137080115760354,\n",
       "   -999,\n",
       "   -999,\n",
       "   -0.27796506596147263,\n",
       "   -999,\n",
       "   -999,\n",
       "   0.6431284960294728],\n",
       "  'Bias Score': [-0.6399375925766302,\n",
       "   -1.0108122356871663,\n",
       "   0.45124530812540053,\n",
       "   -0.7498943745538078,\n",
       "   -0.6733906730322314,\n",
       "   -0.5467566600419714,\n",
       "   -1.8194448417286586,\n",
       "   -1.139378392313906,\n",
       "   0.07999679224675713,\n",
       "   0.7383679685301003,\n",
       "   -0.2912656679302592,\n",
       "   0.0366710310513623,\n",
       "   1.72366445294885,\n",
       "   1.7751149240951982,\n",
       "   -999,\n",
       "   -0.1979619181067939,\n",
       "   0.5132187468894708,\n",
       "   -999,\n",
       "   -999,\n",
       "   -0.08575348101982856,\n",
       "   -999,\n",
       "   -999,\n",
       "   1.8363166131041355],\n",
       "  'Overall Score': [-1.2648740926394078,\n",
       "   -1.5313595294557112,\n",
       "   1.0123575551343686,\n",
       "   -0.1747999980729382,\n",
       "   -0.381495600631861,\n",
       "   0.5691939959917459,\n",
       "   -1.9677619658250338,\n",
       "   -1.1969864410650224,\n",
       "   0.7469442148133294,\n",
       "   0.18026843955384042,\n",
       "   -0.547457817749557,\n",
       "   -0.2249667577025793,\n",
       "   1.4488130672377286,\n",
       "   1.477249039609312,\n",
       "   -999,\n",
       "   0.14075111601512694,\n",
       "   1.0212858123478579,\n",
       "   -999,\n",
       "   -999,\n",
       "   -0.24531917113570212,\n",
       "   -999,\n",
       "   -999,\n",
       "   0.9381581335745017]},\n",
       " 'region': 'global'}"
      ]
     },
     "execution_count": 55,
     "metadata": {},
     "output_type": "execute_result"
    }
   ],
   "source": [
    "geocarbon.__dict__"
   ]
  },
  {
   "cell_type": "code",
   "execution_count": 14,
   "metadata": {},
   "outputs": [],
   "source": [
    "def extract_values(obj, key):\n",
    "    \"\"\"Recursively pull values of specified key from nested JSON.\"\"\"\n",
    "    arr = []\n",
    "\n",
    "    def extract(obj, arr, key):\n",
    "        \"\"\"Return all matching values in an object.\"\"\"\n",
    "        if isinstance(obj, dict):\n",
    "            for k, v in obj.items():\n",
    "                if isinstance(v, (dict, list)):\n",
    "                    extract(v, arr, key)\n",
    "                elif k == key:\n",
    "                    arr.append(v)\n",
    "        elif isinstance(obj, list):\n",
    "            for item in obj:\n",
    "                extract(item, arr, key)\n",
    "        return arr\n",
    "\n",
    "    results = extract(obj, arr, key)\n",
    "    return results"
   ]
  },
  {
   "cell_type": "code",
   "execution_count": 17,
   "metadata": {},
   "outputs": [],
   "source": [
    "names = extract_values(scalar_data, 'Bias Score global')"
   ]
  },
  {
   "cell_type": "code",
   "execution_count": 18,
   "metadata": {},
   "outputs": [
    {
     "data": {
      "text/plain": [
       "[]"
      ]
     },
     "execution_count": 18,
     "metadata": {},
     "output_type": "execute_result"
    }
   ],
   "source": [
    "names"
   ]
  },
  {
   "cell_type": "code",
   "execution_count": null,
   "metadata": {},
   "outputs": [],
   "source": []
  }
 ],
 "metadata": {
  "kernelspec": {
   "display_name": "Python 3",
   "language": "python",
   "name": "python3"
  },
  "language_info": {
   "codemirror_mode": {
    "name": "ipython",
    "version": 3
   },
   "file_extension": ".py",
   "mimetype": "text/x-python",
   "name": "python",
   "nbconvert_exporter": "python",
   "pygments_lexer": "ipython3",
   "version": "3.7.3"
  }
 },
 "nbformat": 4,
 "nbformat_minor": 4
}
